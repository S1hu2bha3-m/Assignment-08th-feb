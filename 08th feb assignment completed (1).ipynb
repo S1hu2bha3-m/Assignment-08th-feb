{
 "cells": [
  {
   "cell_type": "markdown",
   "id": "61f62aca-114e-47b5-86e3-20b7de9310a4",
   "metadata": {
    "tags": []
   },
   "source": [
    "Q1. What is Abstraction in OOps? Explain with an example."
   ]
  },
  {
   "cell_type": "markdown",
   "id": "c826f17c-950c-493b-8f71-3e277bfb3e47",
   "metadata": {},
   "source": [
    "Ans. Abstraction in OOPs refers to the process of hiding the complexity of the implementation of a program from the user, and only exposing the necessary and relevant functionalities to them. In simple terms, it is a way of simplifying the user's interaction with the program.\n",
    "\n",
    "For example, consider a class called Car in Python that represents a car object. The class can have many attributes such as model, year, color, and speed, and methods such as start(), accelerate(), and brake()."
   ]
  },
  {
   "cell_type": "markdown",
   "id": "11d99ede-3a6a-4e28-bce6-53826e2bc110",
   "metadata": {},
   "source": [
    "Q2. Differentiate between Abstraction and Encapsulation. Explain with an example."
   ]
  },
  {
   "cell_type": "markdown",
   "id": "9b6b0bcf-20f7-4faa-a1fd-46c7a79bc446",
   "metadata": {},
   "source": [
    "Ans. Abstraction is the process of hiding unnecessary details and complexity from the user and only exposing the relevant functionalities. It is achieved by creating abstract classes or interfaces that define the methods and attributes that are necessary for the user to interact with the program.\n",
    "\n",
    "Encapsulation, on the other hand, is the process of hiding the internal details of an object and only exposing the necessary functionalities through public methods. It is achieved by creating classes that have private data members and public methods that access or modify those data members.\n",
    "\n",
    "Example:\n",
    "\n",
    "Consider a class called BankAccount in Python that represents a bank account object. The class can have attributes such as account number, account holder name, balance, and methods such as deposit(), withdraw(), and get_balance().\n",
    "\n",
    "To implement abstraction, we can create an abstract class called Account that defines the basic methods such as deposit(), withdraw(), and get_balance(). The BankAccount class can then inherit from this abstract class and implement its own version of these methods.\n",
    "\n",
    "To implement encapsulation, we can make the balance attribute private in the BankAccount class and provide public methods such as deposit() and withdraw() that modify the balance attribute. This way, the user cannot directly access or modify the balance attribute, and can only interact with it through the public methods provided by the class."
   ]
  },
  {
   "cell_type": "markdown",
   "id": "bf4fde5a-f356-4453-a71c-24cbcc61b654",
   "metadata": {},
   "source": [
    "Q3. What is abc module in python? Why is it used?"
   ]
  },
  {
   "cell_type": "markdown",
   "id": "b475a932-8ba2-4a45-9f61-1723f87caa5c",
   "metadata": {},
   "source": [
    "Ans. The 'abc' module in Python library provides the infrastructure for defining custom abstract base classes. 'abc' works by marking methods of the base class as abstract. This is done by @absttractmethod decorator. \n",
    "The abc module is used to implement abstract classes and enforce certain constraints on the classes that inherit from them. It helps in creating a well-defined class hierarchy and also provides a way to define common functionality that can be shared by multiple classes.\n",
    "\n"
   ]
  },
  {
   "cell_type": "markdown",
   "id": "4650b741-5987-4aeb-8e8f-68a8cec374f5",
   "metadata": {},
   "source": [
    "Q4. How can we achieve data abstraction?"
   ]
  },
  {
   "cell_type": "markdown",
   "id": "6a9f7a3c-784f-4a9a-a4e8-292c88f30f1d",
   "metadata": {},
   "source": [
    "Ans. Data abstraction in Python can be achieved through the use of classes and objects. Here are the steps to achieve data abstraction in Python:\n",
    "\n",
    "Define a class: Define a class with the required attributes and methods that define the data and behavior of the object.\n",
    "\n",
    "Define access modifiers: In Python, we can define access modifiers by using the single underscore (_) prefix for attributes and methods that are meant to be protected, and double underscore (__) prefix for attributes and methods that are meant to be private.\n",
    "\n",
    "Use getters and setters: Define methods to get and set the values of the attributes. This helps in encapsulating the data and prevents direct access to the attributes.\n",
    "\n",
    "Create objects: Create objects of the class and use them to access the attributes and methods defined in the class."
   ]
  },
  {
   "cell_type": "markdown",
   "id": "03152fdd-dc28-4b4d-9af5-0942512b2b16",
   "metadata": {},
   "source": [
    "Q5. Can we create an instance of an abstract class? Explain your answer."
   ]
  },
  {
   "cell_type": "markdown",
   "id": "7119119e-d028-4dcb-9272-21a2a4b08061",
   "metadata": {},
   "source": [
    "Ans. No, we cannot create an instance of an abstract class in Python. An abstract class is a class that contains one or more abstract methods, and is meant to be subclassed by other classes that provide concrete implementations of its methods.\n",
    "\n",
    "An abstract method is a method that is declared but does not have any implementation. It is meant to be implemented by its subclass. If an abstract method is not implemented in a subclass, then that subclass also becomes an abstract class."
   ]
  }
 ],
 "metadata": {
  "kernelspec": {
   "display_name": "Python 3 (ipykernel)",
   "language": "python",
   "name": "python3"
  },
  "language_info": {
   "codemirror_mode": {
    "name": "ipython",
    "version": 3
   },
   "file_extension": ".py",
   "mimetype": "text/x-python",
   "name": "python",
   "nbconvert_exporter": "python",
   "pygments_lexer": "ipython3",
   "version": "3.10.8"
  }
 },
 "nbformat": 4,
 "nbformat_minor": 5
}
